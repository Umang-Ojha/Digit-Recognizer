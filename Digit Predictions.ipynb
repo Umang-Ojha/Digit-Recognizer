{
 "cells": [
  {
   "cell_type": "code",
   "execution_count": 24,
   "metadata": {},
   "outputs": [],
   "source": [
    "import numpy as np\n",
    "import pandas as pd\n",
    "import matplotlib.pyplot as plt\n",
    "import seaborn as sns\n",
    "import scipy.stats as stats\n",
    "import statsmodels.api as sm\n",
    "from sklearn import metrics\n",
    "from sklearn.linear_model import Lasso,LassoCV,Ridge,RidgeCV,LinearRegression,SGDRegressor,LogisticRegression\n",
    "from sklearn.tree import DecisionTreeRegressor,ExtraTreeRegressor,DecisionTreeClassifier,ExtraTreeClassifier\n",
    "from sklearn.ensemble import AdaBoostRegressor,BaggingRegressor,GradientBoostingRegressor,RandomForestRegressor\n",
    "from sklearn.feature_selection import RFE\n",
    "from sklearn.model_selection import GridSearchCV,KFold,LeaveOneOut,train_test_split\n",
    "from sklearn.cluster import AgglomerativeClustering,hierarchical,KMeans\n",
    "from sklearn.naive_bayes import GaussianNB\n",
    "from sklearn.preprocessing import MinMaxScaler,LabelEncoder\n",
    "from sklearn.neighbors import KNeighborsClassifier\n",
    "# !pip install xgboost\n",
    "#from XGboost import XGBRegressor,XGBClassifier\n",
    "from mlxtend.feature_selection import SequentialFeatureSelector as sfs\n",
    "import warnings\n",
    "warnings.filterwarnings('ignore')\n",
    "from sklearn.ensemble import RandomForestClassifier,BaggingClassifier,AdaBoostClassifier,GradientBoostingClassifier\n",
    "from sklearn.ensemble import VotingClassifier\n",
    "\n",
    "\n"
   ]
  },
  {
   "cell_type": "code",
   "execution_count": 25,
   "metadata": {},
   "outputs": [],
   "source": [
    "df = pd.read_csv('train.csv').as_matrix()"
   ]
  },
  {
   "cell_type": "code",
   "execution_count": 26,
   "metadata": {},
   "outputs": [
    {
     "data": {
      "text/plain": [
       "array([[1, 0, 0, ..., 0, 0, 0],\n",
       "       [0, 0, 0, ..., 0, 0, 0],\n",
       "       [1, 0, 0, ..., 0, 0, 0],\n",
       "       ...,\n",
       "       [7, 0, 0, ..., 0, 0, 0],\n",
       "       [6, 0, 0, ..., 0, 0, 0],\n",
       "       [9, 0, 0, ..., 0, 0, 0]], dtype=int64)"
      ]
     },
     "execution_count": 26,
     "metadata": {},
     "output_type": "execute_result"
    }
   ],
   "source": [
    "df"
   ]
  },
  {
   "cell_type": "code",
   "execution_count": 27,
   "metadata": {},
   "outputs": [
    {
     "data": {
      "text/plain": [
       "(42000, 785)"
      ]
     },
     "execution_count": 27,
     "metadata": {},
     "output_type": "execute_result"
    }
   ],
   "source": [
    "df.shape"
   ]
  },
  {
   "cell_type": "code",
   "execution_count": 28,
   "metadata": {},
   "outputs": [],
   "source": [
    "x_train = df[0:29400,1:]"
   ]
  },
  {
   "cell_type": "code",
   "execution_count": 29,
   "metadata": {},
   "outputs": [],
   "source": [
    "y_train = df[0:29400,0]"
   ]
  },
  {
   "cell_type": "code",
   "execution_count": 30,
   "metadata": {},
   "outputs": [
    {
     "data": {
      "text/plain": [
       "(29400, 784)"
      ]
     },
     "execution_count": 30,
     "metadata": {},
     "output_type": "execute_result"
    }
   ],
   "source": [
    "x_train.shape"
   ]
  },
  {
   "cell_type": "code",
   "execution_count": 31,
   "metadata": {},
   "outputs": [
    {
     "data": {
      "text/plain": [
       "(29400,)"
      ]
     },
     "execution_count": 31,
     "metadata": {},
     "output_type": "execute_result"
    }
   ],
   "source": [
    "y_train.shape "
   ]
  },
  {
   "cell_type": "code",
   "execution_count": 32,
   "metadata": {},
   "outputs": [],
   "source": [
    "x_test = df[29400:,1:]"
   ]
  },
  {
   "cell_type": "code",
   "execution_count": 33,
   "metadata": {},
   "outputs": [],
   "source": [
    "y_test = df[29400:,0]"
   ]
  },
  {
   "cell_type": "code",
   "execution_count": 34,
   "metadata": {},
   "outputs": [
    {
     "data": {
      "text/plain": [
       "(12600, 784)"
      ]
     },
     "execution_count": 34,
     "metadata": {},
     "output_type": "execute_result"
    }
   ],
   "source": [
    "x_test.shape"
   ]
  },
  {
   "cell_type": "code",
   "execution_count": 35,
   "metadata": {},
   "outputs": [
    {
     "data": {
      "text/plain": [
       "(12600,)"
      ]
     },
     "execution_count": 35,
     "metadata": {},
     "output_type": "execute_result"
    }
   ],
   "source": [
    "y_test.shape"
   ]
  },
  {
   "cell_type": "code",
   "execution_count": 36,
   "metadata": {},
   "outputs": [],
   "source": [
    "x_test_main = pd.read_csv('test.csv')"
   ]
  },
  {
   "cell_type": "code",
   "execution_count": null,
   "metadata": {},
   "outputs": [],
   "source": []
  },
  {
   "cell_type": "markdown",
   "metadata": {},
   "source": [
    "### Logistic Regression"
   ]
  },
  {
   "cell_type": "code",
   "execution_count": 37,
   "metadata": {},
   "outputs": [],
   "source": [
    "from sklearn.linear_model import LogisticRegression"
   ]
  },
  {
   "cell_type": "code",
   "execution_count": 38,
   "metadata": {},
   "outputs": [],
   "source": [
    "lr = LogisticRegression()"
   ]
  },
  {
   "cell_type": "code",
   "execution_count": 39,
   "metadata": {},
   "outputs": [],
   "source": [
    "model= lr.fit(x_train,y_train)"
   ]
  },
  {
   "cell_type": "code",
   "execution_count": 40,
   "metadata": {},
   "outputs": [
    {
     "data": {
      "text/plain": [
       "0.9418707482993197"
      ]
     },
     "execution_count": 40,
     "metadata": {},
     "output_type": "execute_result"
    }
   ],
   "source": [
    "model.score(x_train,y_train)"
   ]
  },
  {
   "cell_type": "code",
   "execution_count": null,
   "metadata": {},
   "outputs": [],
   "source": []
  },
  {
   "cell_type": "code",
   "execution_count": 41,
   "metadata": {},
   "outputs": [],
   "source": [
    "y_pred=model.predict(x_test)"
   ]
  },
  {
   "cell_type": "markdown",
   "metadata": {},
   "source": [
    "##### prdicting model with test data"
   ]
  },
  {
   "cell_type": "code",
   "execution_count": 42,
   "metadata": {},
   "outputs": [],
   "source": [
    "y_pred=model.predict(x_test_main)"
   ]
  },
  {
   "cell_type": "code",
   "execution_count": 43,
   "metadata": {},
   "outputs": [],
   "source": [
    "y_pred = pd.DataFrame(y_pred)"
   ]
  },
  {
   "cell_type": "code",
   "execution_count": null,
   "metadata": {},
   "outputs": [],
   "source": []
  },
  {
   "cell_type": "code",
   "execution_count": 44,
   "metadata": {},
   "outputs": [],
   "source": [
    "y_pred.to_csv('submission_lr.csv',index=False)"
   ]
  },
  {
   "cell_type": "code",
   "execution_count": 45,
   "metadata": {},
   "outputs": [],
   "source": [
    "from sklearn.metrics import classification_report"
   ]
  },
  {
   "cell_type": "code",
   "execution_count": 46,
   "metadata": {},
   "outputs": [],
   "source": [
    "#print(classification_report(y_test,y_pred))"
   ]
  },
  {
   "cell_type": "code",
   "execution_count": 47,
   "metadata": {},
   "outputs": [],
   "source": [
    "from sklearn.metrics import accuracy_score"
   ]
  },
  {
   "cell_type": "code",
   "execution_count": 49,
   "metadata": {},
   "outputs": [],
   "source": [
    "#accuracy_score(y_test,y_pred)"
   ]
  },
  {
   "cell_type": "markdown",
   "metadata": {},
   "source": [
    "### DecisionTree Classifier"
   ]
  },
  {
   "cell_type": "code",
   "execution_count": 50,
   "metadata": {},
   "outputs": [
    {
     "data": {
      "text/plain": [
       "GridSearchCV(cv=5, error_score=nan,\n",
       "             estimator=DecisionTreeClassifier(ccp_alpha=0.0, class_weight=None,\n",
       "                                              criterion='entropy',\n",
       "                                              max_depth=None, max_features=None,\n",
       "                                              max_leaf_nodes=None,\n",
       "                                              min_impurity_decrease=0.0,\n",
       "                                              min_impurity_split=None,\n",
       "                                              min_samples_leaf=1,\n",
       "                                              min_samples_split=2,\n",
       "                                              min_weight_fraction_leaf=0.0,\n",
       "                                              presort='deprecated',\n",
       "                                              random_state=100,\n",
       "                                              splitter='best'),\n",
       "             iid='deprecated', n_jobs=None,\n",
       "             param_grid={'max_depth': range(1, 40)}, pre_dispatch='2*n_jobs',\n",
       "             refit=True, return_train_score=False, scoring='accuracy',\n",
       "             verbose=0)"
      ]
     },
     "execution_count": 50,
     "metadata": {},
     "output_type": "execute_result"
    }
   ],
   "source": [
    "#GridSearchCV to find optimal max_depth\n",
    "from sklearn.model_selection import KFold\n",
    "from sklearn.model_selection import GridSearchCV\n",
    "#specify number of folds for k-fold CV\n",
    "n_folds=5\n",
    "#parameters to build the model on\n",
    "parameters={'max_depth':range(1,40)}\n",
    "#instantiate the model\n",
    "dtree=DecisionTreeClassifier(criterion='entropy',random_state=100)\n",
    "\n",
    "#fit tree on training data\n",
    "tree=GridSearchCV(dtree,parameters,cv=n_folds,scoring='accuracy')\n",
    "tree.fit(x_train,y_train)"
   ]
  },
  {
   "cell_type": "code",
   "execution_count": 51,
   "metadata": {},
   "outputs": [
    {
     "data": {
      "text/html": [
       "<div>\n",
       "<style scoped>\n",
       "    .dataframe tbody tr th:only-of-type {\n",
       "        vertical-align: middle;\n",
       "    }\n",
       "\n",
       "    .dataframe tbody tr th {\n",
       "        vertical-align: top;\n",
       "    }\n",
       "\n",
       "    .dataframe thead th {\n",
       "        text-align: right;\n",
       "    }\n",
       "</style>\n",
       "<table border=\"1\" class=\"dataframe\">\n",
       "  <thead>\n",
       "    <tr style=\"text-align: right;\">\n",
       "      <th></th>\n",
       "      <th>mean_fit_time</th>\n",
       "      <th>std_fit_time</th>\n",
       "      <th>mean_score_time</th>\n",
       "      <th>std_score_time</th>\n",
       "      <th>param_max_depth</th>\n",
       "      <th>params</th>\n",
       "      <th>split0_test_score</th>\n",
       "      <th>split1_test_score</th>\n",
       "      <th>split2_test_score</th>\n",
       "      <th>split3_test_score</th>\n",
       "      <th>split4_test_score</th>\n",
       "      <th>mean_test_score</th>\n",
       "      <th>std_test_score</th>\n",
       "      <th>rank_test_score</th>\n",
       "    </tr>\n",
       "  </thead>\n",
       "  <tbody>\n",
       "    <tr>\n",
       "      <th>0</th>\n",
       "      <td>1.887031</td>\n",
       "      <td>0.305529</td>\n",
       "      <td>0.076756</td>\n",
       "      <td>0.068766</td>\n",
       "      <td>1</td>\n",
       "      <td>{'max_depth': 1}</td>\n",
       "      <td>0.202551</td>\n",
       "      <td>0.202891</td>\n",
       "      <td>0.202041</td>\n",
       "      <td>0.204252</td>\n",
       "      <td>0.204422</td>\n",
       "      <td>0.203231</td>\n",
       "      <td>0.000944</td>\n",
       "      <td>39</td>\n",
       "    </tr>\n",
       "    <tr>\n",
       "      <th>1</th>\n",
       "      <td>2.604942</td>\n",
       "      <td>0.339898</td>\n",
       "      <td>0.032378</td>\n",
       "      <td>0.005391</td>\n",
       "      <td>2</td>\n",
       "      <td>{'max_depth': 2}</td>\n",
       "      <td>0.336395</td>\n",
       "      <td>0.312075</td>\n",
       "      <td>0.332313</td>\n",
       "      <td>0.327551</td>\n",
       "      <td>0.329422</td>\n",
       "      <td>0.327551</td>\n",
       "      <td>0.008293</td>\n",
       "      <td>38</td>\n",
       "    </tr>\n",
       "    <tr>\n",
       "      <th>2</th>\n",
       "      <td>2.945268</td>\n",
       "      <td>0.244238</td>\n",
       "      <td>0.034286</td>\n",
       "      <td>0.003256</td>\n",
       "      <td>3</td>\n",
       "      <td>{'max_depth': 3}</td>\n",
       "      <td>0.502381</td>\n",
       "      <td>0.485884</td>\n",
       "      <td>0.491327</td>\n",
       "      <td>0.501531</td>\n",
       "      <td>0.494218</td>\n",
       "      <td>0.495068</td>\n",
       "      <td>0.006234</td>\n",
       "      <td>37</td>\n",
       "    </tr>\n",
       "    <tr>\n",
       "      <th>3</th>\n",
       "      <td>4.148695</td>\n",
       "      <td>0.183173</td>\n",
       "      <td>0.029984</td>\n",
       "      <td>0.003519</td>\n",
       "      <td>4</td>\n",
       "      <td>{'max_depth': 4}</td>\n",
       "      <td>0.611565</td>\n",
       "      <td>0.613605</td>\n",
       "      <td>0.613095</td>\n",
       "      <td>0.608844</td>\n",
       "      <td>0.604592</td>\n",
       "      <td>0.610340</td>\n",
       "      <td>0.003318</td>\n",
       "      <td>36</td>\n",
       "    </tr>\n",
       "    <tr>\n",
       "      <th>4</th>\n",
       "      <td>5.216794</td>\n",
       "      <td>0.180333</td>\n",
       "      <td>0.027860</td>\n",
       "      <td>0.007928</td>\n",
       "      <td>5</td>\n",
       "      <td>{'max_depth': 5}</td>\n",
       "      <td>0.700000</td>\n",
       "      <td>0.672279</td>\n",
       "      <td>0.683333</td>\n",
       "      <td>0.682993</td>\n",
       "      <td>0.677891</td>\n",
       "      <td>0.683299</td>\n",
       "      <td>0.009270</td>\n",
       "      <td>35</td>\n",
       "    </tr>\n",
       "  </tbody>\n",
       "</table>\n",
       "</div>"
      ],
      "text/plain": [
       "   mean_fit_time  std_fit_time  mean_score_time  std_score_time  \\\n",
       "0       1.887031      0.305529         0.076756        0.068766   \n",
       "1       2.604942      0.339898         0.032378        0.005391   \n",
       "2       2.945268      0.244238         0.034286        0.003256   \n",
       "3       4.148695      0.183173         0.029984        0.003519   \n",
       "4       5.216794      0.180333         0.027860        0.007928   \n",
       "\n",
       "  param_max_depth            params  split0_test_score  split1_test_score  \\\n",
       "0               1  {'max_depth': 1}           0.202551           0.202891   \n",
       "1               2  {'max_depth': 2}           0.336395           0.312075   \n",
       "2               3  {'max_depth': 3}           0.502381           0.485884   \n",
       "3               4  {'max_depth': 4}           0.611565           0.613605   \n",
       "4               5  {'max_depth': 5}           0.700000           0.672279   \n",
       "\n",
       "   split2_test_score  split3_test_score  split4_test_score  mean_test_score  \\\n",
       "0           0.202041           0.204252           0.204422         0.203231   \n",
       "1           0.332313           0.327551           0.329422         0.327551   \n",
       "2           0.491327           0.501531           0.494218         0.495068   \n",
       "3           0.613095           0.608844           0.604592         0.610340   \n",
       "4           0.683333           0.682993           0.677891         0.683299   \n",
       "\n",
       "   std_test_score  rank_test_score  \n",
       "0        0.000944               39  \n",
       "1        0.008293               38  \n",
       "2        0.006234               37  \n",
       "3        0.003318               36  \n",
       "4        0.009270               35  "
      ]
     },
     "execution_count": 51,
     "metadata": {},
     "output_type": "execute_result"
    }
   ],
   "source": [
    "#scores of GridSearchCV\n",
    "scores=tree.cv_results_\n",
    "pd.DataFrame(scores).head()"
   ]
  },
  {
   "cell_type": "code",
   "execution_count": 52,
   "metadata": {},
   "outputs": [
    {
     "data": {
      "text/plain": [
       "{'max_depth': 12}"
      ]
     },
     "execution_count": 52,
     "metadata": {},
     "output_type": "execute_result"
    }
   ],
   "source": [
    "param=tree.best_params_\n",
    "param"
   ]
  },
  {
   "cell_type": "markdown",
   "metadata": {},
   "source": [
    "#### DecisionTreeClassifier"
   ]
  },
  {
   "cell_type": "code",
   "execution_count": 53,
   "metadata": {},
   "outputs": [],
   "source": [
    "from sklearn.tree import DecisionTreeClassifier"
   ]
  },
  {
   "cell_type": "code",
   "execution_count": 54,
   "metadata": {},
   "outputs": [],
   "source": [
    "df_default= DecisionTreeClassifier(max_depth=12,random_state=100)"
   ]
  },
  {
   "cell_type": "code",
   "execution_count": 55,
   "metadata": {},
   "outputs": [
    {
     "data": {
      "text/plain": [
       "DecisionTreeClassifier(ccp_alpha=0.0, class_weight=None, criterion='gini',\n",
       "                       max_depth=12, max_features=None, max_leaf_nodes=None,\n",
       "                       min_impurity_decrease=0.0, min_impurity_split=None,\n",
       "                       min_samples_leaf=1, min_samples_split=2,\n",
       "                       min_weight_fraction_leaf=0.0, presort='deprecated',\n",
       "                       random_state=100, splitter='best')"
      ]
     },
     "execution_count": 55,
     "metadata": {},
     "output_type": "execute_result"
    }
   ],
   "source": [
    "df_default.fit(x_train,y_train)"
   ]
  },
  {
   "cell_type": "code",
   "execution_count": 56,
   "metadata": {},
   "outputs": [],
   "source": [
    "from sklearn.metrics import classification_report,confusion_matrix,accuracy_score"
   ]
  },
  {
   "cell_type": "code",
   "execution_count": 57,
   "metadata": {},
   "outputs": [
    {
     "name": "stdout",
     "output_type": "stream",
     "text": [
      "              precision    recall  f1-score   support\n",
      "\n",
      "           0       0.91      0.91      0.91      1263\n",
      "           1       0.90      0.96      0.93      1409\n",
      "           2       0.84      0.82      0.83      1226\n",
      "           3       0.81      0.80      0.81      1317\n",
      "           4       0.85      0.86      0.85      1184\n",
      "           5       0.79      0.79      0.79      1135\n",
      "           6       0.91      0.88      0.89      1227\n",
      "           7       0.87      0.89      0.88      1332\n",
      "           8       0.82      0.78      0.80      1235\n",
      "           9       0.83      0.83      0.83      1272\n",
      "\n",
      "    accuracy                           0.85     12600\n",
      "   macro avg       0.85      0.85      0.85     12600\n",
      "weighted avg       0.85      0.85      0.85     12600\n",
      "\n"
     ]
    }
   ],
   "source": [
    "\n",
    "\n",
    "y_pred_default=df_default.predict(x_test)\n",
    "\n",
    "print(classification_report(y_test,y_pred_default))"
   ]
  },
  {
   "cell_type": "code",
   "execution_count": 58,
   "metadata": {},
   "outputs": [
    {
     "name": "stdout",
     "output_type": "stream",
     "text": [
      "0.8541269841269842\n"
     ]
    }
   ],
   "source": [
    "print(accuracy_score(y_test,y_pred_default))"
   ]
  },
  {
   "cell_type": "code",
   "execution_count": 59,
   "metadata": {},
   "outputs": [],
   "source": [
    "y_pred_dt=df_default.predict(x_test_main)"
   ]
  },
  {
   "cell_type": "code",
   "execution_count": 60,
   "metadata": {},
   "outputs": [],
   "source": [
    "y_pred_dt = pd.DataFrame(y_pred_dt)"
   ]
  },
  {
   "cell_type": "code",
   "execution_count": 61,
   "metadata": {},
   "outputs": [],
   "source": [
    "y_pred_dt.to_csv('submission_dt.csv',index=False)"
   ]
  },
  {
   "cell_type": "markdown",
   "metadata": {},
   "source": [
    "### Random Forest Classifier"
   ]
  },
  {
   "cell_type": "code",
   "execution_count": 62,
   "metadata": {},
   "outputs": [],
   "source": [
    "rfc=RandomForestClassifier(criterion = 'entropy',max_depth=12)"
   ]
  },
  {
   "cell_type": "code",
   "execution_count": 63,
   "metadata": {},
   "outputs": [
    {
     "data": {
      "text/plain": [
       "RandomForestClassifier(bootstrap=True, ccp_alpha=0.0, class_weight=None,\n",
       "                       criterion='entropy', max_depth=12, max_features='auto',\n",
       "                       max_leaf_nodes=None, max_samples=None,\n",
       "                       min_impurity_decrease=0.0, min_impurity_split=None,\n",
       "                       min_samples_leaf=1, min_samples_split=2,\n",
       "                       min_weight_fraction_leaf=0.0, n_estimators=100,\n",
       "                       n_jobs=None, oob_score=False, random_state=None,\n",
       "                       verbose=0, warm_start=False)"
      ]
     },
     "execution_count": 63,
     "metadata": {},
     "output_type": "execute_result"
    }
   ],
   "source": [
    "rfc.fit(x_train,y_train)"
   ]
  },
  {
   "cell_type": "code",
   "execution_count": 64,
   "metadata": {},
   "outputs": [
    {
     "data": {
      "text/plain": [
       "0.99578231292517"
      ]
     },
     "execution_count": 64,
     "metadata": {},
     "output_type": "execute_result"
    }
   ],
   "source": [
    "rfc.score(x_train,y_train)"
   ]
  },
  {
   "cell_type": "code",
   "execution_count": 65,
   "metadata": {},
   "outputs": [
    {
     "data": {
      "text/plain": [
       "array([0.00000000e+00, 0.00000000e+00, 0.00000000e+00, 0.00000000e+00,\n",
       "       0.00000000e+00, 0.00000000e+00, 0.00000000e+00, 0.00000000e+00,\n",
       "       0.00000000e+00, 0.00000000e+00, 0.00000000e+00, 0.00000000e+00,\n",
       "       0.00000000e+00, 0.00000000e+00, 0.00000000e+00, 0.00000000e+00,\n",
       "       0.00000000e+00, 0.00000000e+00, 0.00000000e+00, 0.00000000e+00,\n",
       "       0.00000000e+00, 0.00000000e+00, 0.00000000e+00, 0.00000000e+00,\n",
       "       0.00000000e+00, 0.00000000e+00, 0.00000000e+00, 0.00000000e+00,\n",
       "       0.00000000e+00, 0.00000000e+00, 0.00000000e+00, 0.00000000e+00,\n",
       "       0.00000000e+00, 0.00000000e+00, 0.00000000e+00, 0.00000000e+00,\n",
       "       1.47232852e-06, 0.00000000e+00, 0.00000000e+00, 6.71332652e-07,\n",
       "       1.15170585e-06, 6.44460160e-07, 0.00000000e+00, 4.39999122e-06,\n",
       "       6.59586234e-07, 9.28019565e-07, 0.00000000e+00, 0.00000000e+00,\n",
       "       0.00000000e+00, 0.00000000e+00, 0.00000000e+00, 0.00000000e+00,\n",
       "       0.00000000e+00, 0.00000000e+00, 0.00000000e+00, 0.00000000e+00,\n",
       "       0.00000000e+00, 0.00000000e+00, 0.00000000e+00, 0.00000000e+00,\n",
       "       0.00000000e+00, 0.00000000e+00, 0.00000000e+00, 4.33990151e-07,\n",
       "       7.68033309e-07, 2.76395943e-06, 2.34910534e-05, 1.54243152e-05,\n",
       "       9.02962130e-05, 6.68033281e-05, 9.01731776e-05, 2.97032566e-05,\n",
       "       3.59445752e-05, 2.72356587e-05, 1.62162513e-05, 3.38595578e-05,\n",
       "       1.51407636e-05, 3.41009998e-06, 1.13311592e-06, 6.07592308e-07,\n",
       "       0.00000000e+00, 0.00000000e+00, 0.00000000e+00, 0.00000000e+00,\n",
       "       0.00000000e+00, 0.00000000e+00, 0.00000000e+00, 0.00000000e+00,\n",
       "       0.00000000e+00, 3.01512934e-07, 1.47450215e-06, 3.23473848e-06,\n",
       "       1.17821677e-05, 5.35135627e-05, 1.54000067e-04, 2.44115955e-04,\n",
       "       3.71117433e-04, 5.06420522e-04, 9.05757252e-04, 1.81616417e-03,\n",
       "       1.14274767e-03, 9.16668401e-04, 8.59390875e-04, 2.37083530e-04,\n",
       "       2.22940115e-04, 3.57956356e-05, 1.09779611e-05, 1.71844338e-05,\n",
       "       3.01701264e-06, 2.39571092e-06, 0.00000000e+00, 0.00000000e+00,\n",
       "       0.00000000e+00, 0.00000000e+00, 0.00000000e+00, 0.00000000e+00,\n",
       "       1.00221256e-06, 1.03692968e-05, 9.87596956e-06, 3.11094997e-05,\n",
       "       7.26847317e-05, 1.68679887e-04, 4.02991625e-04, 5.15459724e-04,\n",
       "       8.83252119e-04, 1.80654000e-03, 2.30442386e-03, 2.38082572e-03,\n",
       "       1.22134880e-03, 8.96095653e-04, 6.94784826e-04, 3.71941996e-04,\n",
       "       2.16448795e-04, 1.16336076e-04, 6.61416809e-05, 4.30595055e-05,\n",
       "       8.03606279e-06, 3.12024436e-06, 0.00000000e+00, 0.00000000e+00,\n",
       "       0.00000000e+00, 0.00000000e+00, 0.00000000e+00, 0.00000000e+00,\n",
       "       3.69222816e-06, 1.08063106e-05, 3.84102598e-05, 1.24807473e-04,\n",
       "       4.01226295e-04, 1.01244466e-03, 1.74431110e-03, 2.65004139e-03,\n",
       "       3.86279333e-03, 6.79136855e-03, 7.61845071e-03, 7.54830194e-03,\n",
       "       8.71926255e-03, 2.96226753e-03, 1.69061322e-03, 1.16328082e-03,\n",
       "       6.44949613e-04, 4.50598363e-04, 2.84558375e-04, 1.03124918e-04,\n",
       "       3.72540678e-05, 1.44301424e-05, 0.00000000e+00, 0.00000000e+00,\n",
       "       0.00000000e+00, 0.00000000e+00, 0.00000000e+00, 1.26829413e-06,\n",
       "       9.69342111e-06, 3.10509031e-05, 8.85307078e-05, 2.64556307e-04,\n",
       "       9.06723383e-04, 1.21450085e-03, 2.24415349e-03, 2.30738577e-03,\n",
       "       2.59696592e-03, 2.79410588e-03, 2.61939810e-03, 4.20665737e-03,\n",
       "       3.93056010e-03, 2.65024551e-03, 1.64199525e-03, 1.34803330e-03,\n",
       "       1.00727774e-03, 1.25753206e-03, 7.36883965e-04, 4.08727104e-04,\n",
       "       1.50767282e-04, 1.20310883e-05, 0.00000000e+00, 0.00000000e+00,\n",
       "       0.00000000e+00, 0.00000000e+00, 1.17343794e-06, 1.05311280e-05,\n",
       "       2.18447611e-05, 6.33877905e-05, 1.98388365e-04, 5.16581804e-04,\n",
       "       8.13703093e-04, 1.74987023e-03, 2.45490269e-03, 1.38661662e-03,\n",
       "       1.96950530e-03, 2.42146978e-03, 4.12319068e-03, 5.17424625e-03,\n",
       "       3.76187659e-03, 2.14152537e-03, 2.08875590e-03, 1.46121380e-03,\n",
       "       1.06377351e-03, 1.23179245e-03, 9.60193755e-04, 7.99055997e-04,\n",
       "       2.66065530e-04, 2.03688614e-05, 8.05118837e-06, 0.00000000e+00,\n",
       "       0.00000000e+00, 0.00000000e+00, 4.30986566e-07, 3.51113662e-06,\n",
       "       2.76492169e-05, 7.86980659e-05, 3.20982602e-04, 4.85658927e-04,\n",
       "       7.51448770e-04, 1.73134198e-03, 2.53544717e-03, 1.51311648e-03,\n",
       "       3.24128279e-03, 2.71713682e-03, 4.70412454e-03, 4.47306157e-03,\n",
       "       4.14732987e-03, 2.26887341e-03, 2.51554297e-03, 3.43899706e-03,\n",
       "       1.98113602e-03, 1.35925704e-03, 9.53306691e-04, 7.18677547e-04,\n",
       "       3.95661489e-04, 9.05236602e-05, 4.85690405e-06, 1.51835247e-06,\n",
       "       0.00000000e+00, 0.00000000e+00, 2.29375331e-06, 6.60243654e-06,\n",
       "       4.34592165e-05, 1.00027706e-04, 2.69718991e-04, 6.86944756e-04,\n",
       "       1.28573742e-03, 2.59772848e-03, 4.91846535e-03, 5.82468922e-03,\n",
       "       2.79650665e-03, 2.24112446e-03, 3.37132265e-03, 3.26078378e-03,\n",
       "       3.09872687e-03, 3.27521842e-03, 4.17519591e-03, 3.51775636e-03,\n",
       "       1.61832511e-03, 1.82271598e-03, 1.13261885e-03, 5.55681159e-04,\n",
       "       2.06496164e-04, 5.52520378e-05, 7.81622926e-06, 0.00000000e+00,\n",
       "       0.00000000e+00, 0.00000000e+00, 3.03734970e-07, 6.44829178e-06,\n",
       "       4.99501020e-05, 1.12602918e-04, 3.04535008e-04, 9.43997621e-04,\n",
       "       1.45227171e-03, 2.27294087e-03, 5.87489525e-03, 3.67085112e-03,\n",
       "       2.87614194e-03, 2.61433766e-03, 2.70263927e-03, 3.12665197e-03,\n",
       "       3.10946686e-03, 3.33407595e-03, 4.86061030e-03, 3.21114612e-03,\n",
       "       2.16481996e-03, 1.27579509e-03, 8.45091664e-04, 3.19603392e-04,\n",
       "       9.87191568e-05, 2.28730340e-05, 1.98153075e-06, 0.00000000e+00,\n",
       "       0.00000000e+00, 0.00000000e+00, 1.48491800e-06, 7.80252754e-06,\n",
       "       4.11882243e-05, 1.17047546e-04, 4.09577499e-04, 8.49332396e-04,\n",
       "       1.91031137e-03, 6.92439191e-03, 8.64055824e-03, 5.96143087e-03,\n",
       "       3.81742653e-03, 2.91360076e-03, 3.67447922e-03, 3.28047342e-03,\n",
       "       2.80935923e-03, 3.29606252e-03, 4.04716827e-03, 2.26473094e-03,\n",
       "       2.17714358e-03, 1.03804144e-03, 1.14223033e-03, 3.61950095e-04,\n",
       "       4.96308665e-05, 8.42868990e-06, 0.00000000e+00, 0.00000000e+00,\n",
       "       0.00000000e+00, 0.00000000e+00, 0.00000000e+00, 8.15046495e-06,\n",
       "       1.58209725e-05, 2.44167071e-04, 7.19117504e-04, 1.46517087e-03,\n",
       "       2.11840722e-03, 4.88383961e-03, 7.59668985e-03, 7.95792082e-03,\n",
       "       4.60745721e-03, 4.76896797e-03, 8.92035166e-03, 4.75374510e-03,\n",
       "       2.87949595e-03, 4.18324636e-03, 4.57713336e-03, 1.87731560e-03,\n",
       "       1.54150390e-03, 2.00350375e-03, 9.57437406e-04, 4.46223722e-04,\n",
       "       6.74068651e-05, 6.63754660e-06, 3.15932788e-06, 0.00000000e+00,\n",
       "       0.00000000e+00, 0.00000000e+00, 1.48670993e-06, 4.84072567e-06,\n",
       "       3.72680966e-05, 2.10058966e-04, 1.59552781e-03, 2.05931305e-03,\n",
       "       4.86319667e-03, 7.36446098e-03, 6.84435109e-03, 5.81263024e-03,\n",
       "       4.96385558e-03, 8.59989262e-03, 1.21569700e-02, 5.07231060e-03,\n",
       "       4.07928881e-03, 5.59627702e-03, 5.11536296e-03, 1.33794376e-03,\n",
       "       6.96322388e-04, 9.90507528e-04, 9.26034428e-04, 4.88346758e-04,\n",
       "       1.01019818e-04, 5.04999599e-06, 2.71493699e-06, 4.23343553e-07,\n",
       "       0.00000000e+00, 0.00000000e+00, 0.00000000e+00, 4.06776762e-06,\n",
       "       3.84946552e-05, 2.79119896e-04, 1.15068903e-03, 1.33675432e-03,\n",
       "       6.05425508e-03, 4.44963208e-03, 7.26481019e-03, 4.46828119e-03,\n",
       "       3.36403673e-03, 8.77915641e-03, 8.49641006e-03, 4.24362999e-03,\n",
       "       4.88664577e-03, 6.01557851e-03, 4.01474236e-03, 1.60793220e-03,\n",
       "       1.10379642e-03, 9.32716058e-04, 7.16443232e-04, 4.32801157e-04,\n",
       "       1.14713112e-04, 5.08569969e-06, 0.00000000e+00, 0.00000000e+00,\n",
       "       0.00000000e+00, 0.00000000e+00, 2.38723521e-06, 6.40984732e-06,\n",
       "       3.07951127e-05, 2.76657268e-04, 1.68092361e-03, 3.90928356e-03,\n",
       "       7.98729746e-03, 6.69326641e-03, 5.18453010e-03, 5.86431313e-03,\n",
       "       4.56275674e-03, 1.10652962e-02, 4.43577586e-03, 6.77925284e-03,\n",
       "       4.08775699e-03, 6.98985452e-03, 2.44665249e-03, 1.13699548e-03,\n",
       "       1.05357335e-03, 9.85774028e-04, 6.02069901e-04, 3.62336408e-04,\n",
       "       7.72803721e-05, 7.12950073e-06, 4.52369121e-06, 2.12048328e-06,\n",
       "       0.00000000e+00, 0.00000000e+00, 1.21660872e-06, 8.94856663e-06,\n",
       "       5.12874276e-05, 3.33830575e-04, 1.62219319e-03, 3.50139545e-03,\n",
       "       4.20660658e-03, 7.26242071e-03, 3.24395677e-03, 4.79865698e-03,\n",
       "       6.53552678e-03, 9.33954976e-03, 1.09530257e-02, 3.96634757e-03,\n",
       "       3.06176956e-03, 3.79563549e-03, 2.13590571e-03, 1.29370073e-03,\n",
       "       1.22400425e-03, 1.27031055e-03, 4.85119596e-04, 2.30809247e-04,\n",
       "       7.07961933e-05, 1.85773462e-05, 6.45909038e-06, 0.00000000e+00,\n",
       "       0.00000000e+00, 9.08505883e-07, 9.18166393e-07, 1.36017686e-05,\n",
       "       5.54249179e-05, 4.53013796e-04, 8.33850488e-04, 1.74338435e-03,\n",
       "       3.15560982e-03, 4.39480060e-03, 5.40207669e-03, 6.97165797e-03,\n",
       "       6.89217882e-03, 7.44394877e-03, 3.76064631e-03, 2.88275823e-03,\n",
       "       2.01421390e-03, 1.69425032e-03, 1.97672471e-03, 2.17783543e-03,\n",
       "       1.30128799e-03, 6.37046248e-04, 4.27651937e-04, 2.47368295e-04,\n",
       "       1.07604048e-04, 1.50962365e-05, 8.62244573e-06, 0.00000000e+00,\n",
       "       0.00000000e+00, 0.00000000e+00, 1.31501002e-06, 2.12640527e-05,\n",
       "       8.49460756e-05, 3.25784464e-04, 1.45289130e-03, 2.55079980e-03,\n",
       "       2.45379293e-03, 4.86472239e-03, 6.49081766e-03, 8.28357672e-03,\n",
       "       3.49683693e-03, 3.41532760e-03, 2.85083328e-03, 1.44940236e-03,\n",
       "       1.23196833e-03, 2.40383736e-03, 3.18058940e-03, 1.87291877e-03,\n",
       "       1.02379373e-03, 6.91722739e-04, 4.94128617e-04, 1.91137049e-04,\n",
       "       9.22292132e-05, 1.14402476e-05, 1.30176073e-06, 3.01705862e-07,\n",
       "       0.00000000e+00, 0.00000000e+00, 1.95904965e-06, 1.90000924e-05,\n",
       "       1.53692536e-04, 4.39857189e-04, 1.10701751e-03, 1.77256966e-03,\n",
       "       4.20461396e-03, 5.81358441e-03, 6.83639225e-03, 5.78859997e-03,\n",
       "       3.88326143e-03, 2.81018882e-03, 1.94969011e-03, 1.19575015e-03,\n",
       "       1.33537936e-03, 2.09850537e-03, 3.18549758e-03, 2.16858699e-03,\n",
       "       1.09312348e-03, 1.06438322e-03, 3.90121395e-04, 1.88480739e-04,\n",
       "       5.44873889e-05, 1.36766430e-05, 1.49522361e-06, 0.00000000e+00,\n",
       "       0.00000000e+00, 0.00000000e+00, 9.13272862e-07, 3.01024380e-05,\n",
       "       1.07041616e-04, 3.67137827e-04, 1.19419607e-03, 5.56077298e-03,\n",
       "       8.90341341e-03, 9.59128448e-03, 6.10902603e-03, 4.84747002e-03,\n",
       "       3.16949913e-03, 1.92847716e-03, 1.83075837e-03, 1.70793986e-03,\n",
       "       1.49009550e-03, 1.44269119e-03, 3.30727975e-03, 1.96633371e-03,\n",
       "       1.43323378e-03, 8.28019412e-04, 2.99411086e-04, 1.03764997e-04,\n",
       "       3.38331422e-05, 1.43055617e-06, 1.73705274e-06, 0.00000000e+00,\n",
       "       0.00000000e+00, 0.00000000e+00, 5.16320063e-07, 1.43573782e-05,\n",
       "       8.42603956e-05, 2.01336556e-04, 5.16008666e-04, 4.14050019e-03,\n",
       "       9.03464752e-03, 3.93969761e-03, 2.77890998e-03, 1.78715286e-03,\n",
       "       1.37389770e-03, 1.47271210e-03, 1.18425591e-03, 9.45190079e-04,\n",
       "       1.12893684e-03, 1.20897586e-03, 8.69636626e-04, 8.83830271e-04,\n",
       "       4.77334032e-04, 4.47042561e-04, 1.56630393e-04, 4.13658911e-05,\n",
       "       1.95471016e-05, 5.23084482e-06, 3.25810211e-06, 0.00000000e+00,\n",
       "       0.00000000e+00, 0.00000000e+00, 6.03216533e-07, 4.23605978e-06,\n",
       "       6.80883631e-05, 1.72650660e-04, 4.67808396e-04, 1.13630564e-03,\n",
       "       4.33050237e-03, 3.71738920e-03, 4.57203892e-03, 2.71079752e-03,\n",
       "       1.57100307e-03, 1.67588157e-03, 1.59251251e-03, 1.80806058e-03,\n",
       "       1.05879380e-03, 7.01967545e-04, 5.95448780e-04, 6.55874762e-04,\n",
       "       1.85859252e-04, 1.76149768e-04, 5.83308551e-05, 2.40679769e-05,\n",
       "       5.69099084e-06, 1.17609019e-06, 0.00000000e+00, 0.00000000e+00,\n",
       "       0.00000000e+00, 0.00000000e+00, 2.20244057e-07, 2.77698161e-06,\n",
       "       3.77401404e-05, 7.24062993e-05, 2.56365872e-04, 7.10443923e-04,\n",
       "       1.49402446e-03, 2.01705828e-03, 4.13231874e-03, 5.75078806e-03,\n",
       "       4.33703387e-03, 5.84246076e-03, 5.02881329e-03, 2.44171925e-03,\n",
       "       1.64946358e-03, 1.01677736e-03, 3.10552785e-04, 2.45805360e-04,\n",
       "       1.08114293e-04, 5.95066420e-05, 2.95977131e-05, 9.84784305e-06,\n",
       "       7.59502198e-06, 0.00000000e+00, 0.00000000e+00, 0.00000000e+00,\n",
       "       0.00000000e+00, 0.00000000e+00, 6.82682865e-07, 1.10502515e-06,\n",
       "       9.98151227e-06, 5.10222902e-05, 1.17603618e-04, 2.18603493e-04,\n",
       "       2.71969387e-04, 7.54995932e-04, 9.65678597e-04, 8.43086859e-04,\n",
       "       9.89048002e-04, 9.83010328e-04, 9.29686199e-04, 8.03462836e-04,\n",
       "       3.95533720e-04, 2.84966362e-04, 3.42656031e-04, 1.36775950e-04,\n",
       "       6.74524038e-05, 3.05492221e-05, 1.39108694e-05, 6.35118144e-06,\n",
       "       4.33419137e-06, 2.39143835e-06, 2.20550099e-07, 0.00000000e+00,\n",
       "       0.00000000e+00, 0.00000000e+00, 0.00000000e+00, 7.18022682e-07,\n",
       "       1.75790183e-06, 2.34959432e-05, 2.57726651e-05, 1.66679579e-04,\n",
       "       1.93799366e-04, 2.29858014e-04, 6.06716529e-04, 5.34451778e-04,\n",
       "       6.66214376e-04, 2.13055255e-04, 1.95912172e-04, 2.19375316e-04,\n",
       "       1.27260807e-04, 1.37263272e-04, 1.21173603e-04, 1.14278004e-04,\n",
       "       2.40613137e-05, 1.19682311e-05, 3.02507785e-06, 1.02244744e-06,\n",
       "       0.00000000e+00, 0.00000000e+00, 0.00000000e+00, 0.00000000e+00,\n",
       "       0.00000000e+00, 0.00000000e+00, 0.00000000e+00, 0.00000000e+00,\n",
       "       6.44727096e-07, 5.32808304e-06, 5.88036701e-06, 1.68868118e-06,\n",
       "       9.46816665e-06, 2.15687061e-05, 4.69732730e-05, 3.00547285e-05,\n",
       "       1.94458777e-04, 1.16058535e-04, 7.85691204e-05, 8.10841448e-05,\n",
       "       3.57075194e-05, 1.99268615e-05, 4.07938840e-05, 1.73268696e-05,\n",
       "       4.20396763e-06, 9.82313968e-07, 1.18719975e-06, 1.49707462e-06,\n",
       "       0.00000000e+00, 0.00000000e+00, 0.00000000e+00, 0.00000000e+00,\n",
       "       0.00000000e+00, 0.00000000e+00, 0.00000000e+00, 0.00000000e+00,\n",
       "       0.00000000e+00, 0.00000000e+00, 0.00000000e+00, 1.15570158e-06,\n",
       "       0.00000000e+00, 3.02087222e-07, 5.41373882e-07, 0.00000000e+00,\n",
       "       6.14878455e-07, 2.66167979e-06, 8.14523753e-07, 1.58158768e-06,\n",
       "       0.00000000e+00, 5.32032976e-07, 2.58000962e-06, 3.58662727e-07,\n",
       "       0.00000000e+00, 2.04978599e-06, 0.00000000e+00, 0.00000000e+00,\n",
       "       0.00000000e+00, 0.00000000e+00, 0.00000000e+00, 0.00000000e+00])"
      ]
     },
     "execution_count": 65,
     "metadata": {},
     "output_type": "execute_result"
    }
   ],
   "source": [
    "rfc.feature_importances_"
   ]
  },
  {
   "cell_type": "code",
   "execution_count": 66,
   "metadata": {},
   "outputs": [],
   "source": [
    "predictions=rfc.predict(x_test)"
   ]
  },
  {
   "cell_type": "code",
   "execution_count": 67,
   "metadata": {},
   "outputs": [],
   "source": [
    "predictions=rfc.predict(x_test)"
   ]
  },
  {
   "cell_type": "code",
   "execution_count": 68,
   "metadata": {},
   "outputs": [],
   "source": [
    "y_pred_rf=rfc.predict(x_test_main)"
   ]
  },
  {
   "cell_type": "code",
   "execution_count": null,
   "metadata": {},
   "outputs": [],
   "source": []
  },
  {
   "cell_type": "code",
   "execution_count": 69,
   "metadata": {},
   "outputs": [],
   "source": [
    "y_pred_rf = pd.DataFrame(y_pred_rf)"
   ]
  },
  {
   "cell_type": "code",
   "execution_count": 70,
   "metadata": {},
   "outputs": [],
   "source": [
    "y_pred_rf.to_csv('submission_rf.csv',index=False)"
   ]
  },
  {
   "cell_type": "code",
   "execution_count": null,
   "metadata": {},
   "outputs": [],
   "source": []
  },
  {
   "cell_type": "code",
   "execution_count": 71,
   "metadata": {},
   "outputs": [
    {
     "data": {
      "text/plain": [
       "0.9587301587301588"
      ]
     },
     "execution_count": 71,
     "metadata": {},
     "output_type": "execute_result"
    }
   ],
   "source": [
    "metrics.accuracy_score(y_test,predictions)"
   ]
  },
  {
   "cell_type": "code",
   "execution_count": 72,
   "metadata": {},
   "outputs": [
    {
     "data": {
      "text/plain": [
       "0.9587301587301588"
      ]
     },
     "execution_count": 72,
     "metadata": {},
     "output_type": "execute_result"
    }
   ],
   "source": [
    "metrics.recall_score(y_test,predictions,average = 'weighted')"
   ]
  },
  {
   "cell_type": "code",
   "execution_count": 73,
   "metadata": {},
   "outputs": [
    {
     "data": {
      "text/plain": [
       "0.9586801152758175"
      ]
     },
     "execution_count": 73,
     "metadata": {},
     "output_type": "execute_result"
    }
   ],
   "source": [
    "metrics.f1_score(y_test,predictions,average = 'weighted')"
   ]
  },
  {
   "cell_type": "code",
   "execution_count": 74,
   "metadata": {},
   "outputs": [
    {
     "data": {
      "text/plain": [
       "array([[1243,    0,    0,    1,    1,    1,    6,    0,   11,    0],\n",
       "       [   0, 1394,    4,    4,    2,    1,    1,    1,    2,    0],\n",
       "       [   9,    1, 1174,    7,    4,    2,    6,    9,   11,    3],\n",
       "       [   1,    4,   28, 1233,    2,   14,    3,   12,   13,    7],\n",
       "       [   1,    3,    1,    0, 1127,    1,    8,    0,    7,   36],\n",
       "       [   4,    4,    3,   20,    2, 1079,    5,    0,   11,    7],\n",
       "       [   8,    3,    3,    0,    5,    4, 1201,    0,    3,    0],\n",
       "       [   0,    5,   12,    3,    4,    0,    0, 1285,    4,   19],\n",
       "       [   1,   14,    6,    8,    4,   11,    6,    1, 1165,   19],\n",
       "       [   5,    5,    6,   19,   21,    8,    0,   22,    7, 1179]],\n",
       "      dtype=int64)"
      ]
     },
     "execution_count": 74,
     "metadata": {},
     "output_type": "execute_result"
    }
   ],
   "source": [
    "metrics.confusion_matrix(y_test,predictions)"
   ]
  },
  {
   "cell_type": "code",
   "execution_count": 75,
   "metadata": {},
   "outputs": [
    {
     "data": {
      "text/plain": [
       "'              precision    recall  f1-score   support\\n\\n           0       0.98      0.98      0.98      1263\\n           1       0.97      0.99      0.98      1409\\n           2       0.95      0.96      0.95      1226\\n           3       0.95      0.94      0.94      1317\\n           4       0.96      0.95      0.96      1184\\n           5       0.96      0.95      0.96      1135\\n           6       0.97      0.98      0.98      1227\\n           7       0.97      0.96      0.97      1332\\n           8       0.94      0.94      0.94      1235\\n           9       0.93      0.93      0.93      1272\\n\\n    accuracy                           0.96     12600\\n   macro avg       0.96      0.96      0.96     12600\\nweighted avg       0.96      0.96      0.96     12600\\n'"
      ]
     },
     "execution_count": 75,
     "metadata": {},
     "output_type": "execute_result"
    }
   ],
   "source": [
    "metrics.classification_report(y_test,predictions)"
   ]
  },
  {
   "cell_type": "code",
   "execution_count": null,
   "metadata": {},
   "outputs": [],
   "source": []
  },
  {
   "cell_type": "markdown",
   "metadata": {},
   "source": [
    "### KNN "
   ]
  },
  {
   "cell_type": "code",
   "execution_count": 76,
   "metadata": {},
   "outputs": [],
   "source": [
    "from sklearn.neighbors import KNeighborsClassifier "
   ]
  },
  {
   "cell_type": "code",
   "execution_count": 77,
   "metadata": {},
   "outputs": [],
   "source": [
    "knn=KNeighborsClassifier(n_neighbors=3)"
   ]
  },
  {
   "cell_type": "code",
   "execution_count": 78,
   "metadata": {},
   "outputs": [
    {
     "name": "stdout",
     "output_type": "stream",
     "text": [
      "with KNN (K=3) accuracy is: 0.9670634920634921\n"
     ]
    }
   ],
   "source": [
    "knn.fit(x_train,y_train)\n",
    "prediction=knn.predict(x_test)\n",
    "print('with KNN (K=3) accuracy is:',knn.score(x_test,y_test))#accuracy"
   ]
  },
  {
   "cell_type": "code",
   "execution_count": 79,
   "metadata": {},
   "outputs": [],
   "source": [
    "y_pred_knn=knn.predict(x_test_main)"
   ]
  },
  {
   "cell_type": "code",
   "execution_count": 80,
   "metadata": {},
   "outputs": [],
   "source": [
    "y_pred_knn = pd.DataFrame(y_pred_knn)"
   ]
  },
  {
   "cell_type": "code",
   "execution_count": 81,
   "metadata": {},
   "outputs": [],
   "source": [
    "y_pred_knn.to_csv('submission_knn.csv',index=False)"
   ]
  },
  {
   "cell_type": "code",
   "execution_count": 82,
   "metadata": {},
   "outputs": [],
   "source": [
    "# knn.fit(x_train,y_train)\n",
    "# prediction=knn.predict(x_test)\n",
    "# print('with KNN (K=2) accuracy is:',knn.score(x_test,y_test))#accuracy"
   ]
  },
  {
   "cell_type": "code",
   "execution_count": 83,
   "metadata": {},
   "outputs": [],
   "source": [
    "# neig=np.arange(1,25)\n",
    "# train_accuracy=[]\n",
    "# test_accuracy=[]\n",
    "# #loop over different values of k\n",
    "# for i,k in enumerate(neig):\n",
    "#     #k from 1 to 25 (exclude)\n",
    "#     knn=KNeighborsClassifier(n_neighbors=k)\n",
    "#     #fit with knn\n",
    "#     knn.fit(x_train,y_train)\n",
    "#     #train accuracy\n",
    "#     train_accuracy.append(knn.score(x_train,y_train))\n",
    "#     #test_accuracy\n",
    "#     test_accuracy.append(knn.score(x_test,y_test))\n",
    "    \n",
    "# #plot\n",
    "# plt.figure(figsize=(13,8))\n",
    "# plt.plot(neig,test_accuracy,label='Testing Accuracy')\n",
    "# plt.plot(neig,train_accuracy,label='Training Accuracy')\n",
    "# plt.legend()\n",
    "# plt.title('value vs accuracy',fontsize=20)\n",
    "# plt.xlabel('number of neighbours',fontsize=20)\n",
    "# plt.ylabel('accuracy',fontsize=20)\n",
    "# plt.xticks(neig)\n",
    "# plt.grid()\n",
    "# plt.show()\n",
    "# print('best accuracy is {} with K = {}'.format(np.max(test_accuracy),1+test_accuracy.index(np.max(test_accuracy))))\n"
   ]
  },
  {
   "cell_type": "markdown",
   "metadata": {},
   "source": [
    "### Naive Bayes"
   ]
  },
  {
   "cell_type": "code",
   "execution_count": 84,
   "metadata": {},
   "outputs": [],
   "source": [
    "from sklearn.naive_bayes import GaussianNB"
   ]
  },
  {
   "cell_type": "code",
   "execution_count": 85,
   "metadata": {},
   "outputs": [
    {
     "data": {
      "text/plain": [
       "GaussianNB(priors=None, var_smoothing=1e-09)"
      ]
     },
     "execution_count": 85,
     "metadata": {},
     "output_type": "execute_result"
    }
   ],
   "source": [
    "classifier=GaussianNB()\n",
    "classifier.fit(x_train,y_train)"
   ]
  },
  {
   "cell_type": "code",
   "execution_count": 86,
   "metadata": {},
   "outputs": [
    {
     "data": {
      "text/plain": [
       "array([8, 6, 9, ..., 9, 6, 9], dtype=int64)"
      ]
     },
     "execution_count": 86,
     "metadata": {},
     "output_type": "execute_result"
    }
   ],
   "source": [
    "y_pred=classifier.predict(x_test)\n",
    "y_pred"
   ]
  },
  {
   "cell_type": "code",
   "execution_count": 87,
   "metadata": {},
   "outputs": [
    {
     "data": {
      "text/plain": [
       "array([[1129,    2,    4,    5,    1,    3,   69,    1,   32,   17],\n",
       "       [   0, 1340,    2,    8,    1,    4,   12,    0,   32,   10],\n",
       "       [ 115,   43,  261,  190,    1,    8,  325,    6,  264,   13],\n",
       "       [  60,   80,   10,  666,    1,    3,   80,   17,  271,  129],\n",
       "       [  24,   17,   12,   14,  166,    7,  169,   11,  201,  563],\n",
       "       [ 132,   46,    7,   44,    5,   72,  101,    0,  619,  109],\n",
       "       [   8,   15,   10,    1,    0,    3, 1172,    0,   17,    1],\n",
       "       [   3,    4,    1,   20,    6,    1,    3,  466,   43,  785],\n",
       "       [  16,  204,    2,   13,    2,   14,   40,    1,  705,  238],\n",
       "       [   5,   15,    2,    6,    8,    4,    1,   19,   25, 1187]],\n",
       "      dtype=int64)"
      ]
     },
     "execution_count": 87,
     "metadata": {},
     "output_type": "execute_result"
    }
   ],
   "source": [
    "confusion_matrix(y_test,y_pred)"
   ]
  },
  {
   "cell_type": "code",
   "execution_count": 88,
   "metadata": {},
   "outputs": [],
   "source": [
    "from sklearn import metrics\n",
    "from sklearn.metrics import recall_score ,precision_score,accuracy_score,f1_score,classification_report"
   ]
  },
  {
   "cell_type": "code",
   "execution_count": 89,
   "metadata": {},
   "outputs": [
    {
     "name": "stdout",
     "output_type": "stream",
     "text": [
      "0.5236612778886693\n",
      "0.5685714285714286\n"
     ]
    }
   ],
   "source": [
    "print(f1_score(y_test,y_pred,average='weighted'))#f1 score higher means model is working better\n",
    "print(accuracy_score(y_test,y_pred))"
   ]
  },
  {
   "cell_type": "markdown",
   "metadata": {},
   "source": [
    "### ensemble methods"
   ]
  },
  {
   "cell_type": "markdown",
   "metadata": {},
   "source": [
    "#### KNN"
   ]
  },
  {
   "cell_type": "code",
   "execution_count": 90,
   "metadata": {},
   "outputs": [],
   "source": [
    "from sklearn.ensemble import BaggingClassifier"
   ]
  },
  {
   "cell_type": "code",
   "execution_count": 91,
   "metadata": {},
   "outputs": [],
   "source": [
    "clf1 = KNeighborsClassifier(n_neighbors=3)"
   ]
  },
  {
   "cell_type": "code",
   "execution_count": 92,
   "metadata": {},
   "outputs": [],
   "source": [
    "bg = BaggingClassifier(base_estimator=clf1, n_estimators=10, max_samples=0.8, max_features=0.8)"
   ]
  },
  {
   "cell_type": "code",
   "execution_count": 93,
   "metadata": {},
   "outputs": [
    {
     "data": {
      "text/plain": [
       "BaggingClassifier(base_estimator=KNeighborsClassifier(algorithm='auto',\n",
       "                                                      leaf_size=30,\n",
       "                                                      metric='minkowski',\n",
       "                                                      metric_params=None,\n",
       "                                                      n_jobs=None,\n",
       "                                                      n_neighbors=3, p=2,\n",
       "                                                      weights='uniform'),\n",
       "                  bootstrap=True, bootstrap_features=False, max_features=0.8,\n",
       "                  max_samples=0.8, n_estimators=10, n_jobs=None,\n",
       "                  oob_score=False, random_state=None, verbose=0,\n",
       "                  warm_start=False)"
      ]
     },
     "execution_count": 93,
     "metadata": {},
     "output_type": "execute_result"
    }
   ],
   "source": [
    "bg.fit(x_train,y_train)"
   ]
  },
  {
   "cell_type": "code",
   "execution_count": 94,
   "metadata": {},
   "outputs": [],
   "source": [
    "y_pred_bg = bg.predict(x_test)"
   ]
  },
  {
   "cell_type": "code",
   "execution_count": 95,
   "metadata": {},
   "outputs": [
    {
     "data": {
      "text/plain": [
       "array([3, 2, 7, ..., 7, 6, 9], dtype=int64)"
      ]
     },
     "execution_count": 95,
     "metadata": {},
     "output_type": "execute_result"
    }
   ],
   "source": [
    "y_pred_bg"
   ]
  },
  {
   "cell_type": "code",
   "execution_count": 96,
   "metadata": {},
   "outputs": [
    {
     "data": {
      "text/plain": [
       "array([[1255,    2,    0,    0,    0,    1,    5,    0,    0,    0],\n",
       "       [   0, 1407,    1,    0,    1,    0,    0,    0,    0,    0],\n",
       "       [  15,   11, 1171,    2,    1,    3,    0,   21,    1,    1],\n",
       "       [   0,    7,    7, 1268,    0,   13,    0,    5,   11,    6],\n",
       "       [   0,   14,    0,    0, 1141,    0,    4,    1,    0,   24],\n",
       "       [   4,    2,    0,   11,    2, 1096,   14,    0,    1,    5],\n",
       "       [   5,    2,    1,    0,    2,    6, 1211,    0,    0,    0],\n",
       "       [   0,   12,    4,    0,    3,    0,    0, 1295,    0,   18],\n",
       "       [   5,   22,    2,   16,    4,   21,    5,    2, 1144,   14],\n",
       "       [   8,    2,    2,    9,   16,    3,    0,   29,    3, 1200]],\n",
       "      dtype=int64)"
      ]
     },
     "execution_count": 96,
     "metadata": {},
     "output_type": "execute_result"
    }
   ],
   "source": [
    "confusion_matrix(y_test,y_pred_bg)"
   ]
  },
  {
   "cell_type": "code",
   "execution_count": 97,
   "metadata": {},
   "outputs": [
    {
     "name": "stdout",
     "output_type": "stream",
     "text": [
      "0.9672287971587173\n",
      "0.9673015873015873\n"
     ]
    }
   ],
   "source": [
    "print(f1_score(y_test,y_pred_bg,average='weighted'))#f1 score higher means model is working better\n",
    "print(accuracy_score(y_test,y_pred_bg))"
   ]
  },
  {
   "cell_type": "code",
   "execution_count": 98,
   "metadata": {},
   "outputs": [],
   "source": [
    "y_pred_knnbg=bg.predict(x_test_main)"
   ]
  },
  {
   "cell_type": "code",
   "execution_count": 99,
   "metadata": {},
   "outputs": [],
   "source": [
    "y_pred_knnbg = pd.DataFrame(y_pred_knnbg)"
   ]
  },
  {
   "cell_type": "code",
   "execution_count": 100,
   "metadata": {},
   "outputs": [],
   "source": [
    "y_pred_knnbg.to_csv('submission_knnbg.csv',index=False)"
   ]
  },
  {
   "cell_type": "markdown",
   "metadata": {},
   "source": [
    "#### logistic regression"
   ]
  },
  {
   "cell_type": "code",
   "execution_count": 101,
   "metadata": {},
   "outputs": [],
   "source": [
    "clf2 = LogisticRegression()"
   ]
  },
  {
   "cell_type": "code",
   "execution_count": 102,
   "metadata": {},
   "outputs": [],
   "source": [
    "bg1 = BaggingClassifier(base_estimator=clf2, n_estimators=10, max_samples=0.8, max_features=0.8)"
   ]
  },
  {
   "cell_type": "code",
   "execution_count": 103,
   "metadata": {},
   "outputs": [
    {
     "data": {
      "text/plain": [
       "BaggingClassifier(base_estimator=LogisticRegression(C=1.0, class_weight=None,\n",
       "                                                    dual=False,\n",
       "                                                    fit_intercept=True,\n",
       "                                                    intercept_scaling=1,\n",
       "                                                    l1_ratio=None, max_iter=100,\n",
       "                                                    multi_class='auto',\n",
       "                                                    n_jobs=None, penalty='l2',\n",
       "                                                    random_state=None,\n",
       "                                                    solver='lbfgs', tol=0.0001,\n",
       "                                                    verbose=0,\n",
       "                                                    warm_start=False),\n",
       "                  bootstrap=True, bootstrap_features=False, max_features=0.8,\n",
       "                  max_samples=0.8, n_estimators=10, n_jobs=None,\n",
       "                  oob_score=False, random_state=None, verbose=0,\n",
       "                  warm_start=False)"
      ]
     },
     "execution_count": 103,
     "metadata": {},
     "output_type": "execute_result"
    }
   ],
   "source": [
    "bg1.fit(x_train,y_train)"
   ]
  },
  {
   "cell_type": "code",
   "execution_count": 104,
   "metadata": {},
   "outputs": [],
   "source": [
    "y_pred_bg1 = bg1.predict(x_test)"
   ]
  },
  {
   "cell_type": "code",
   "execution_count": 105,
   "metadata": {},
   "outputs": [
    {
     "data": {
      "text/plain": [
       "array([[1209,    0,    6,    2,    3,   14,   14,    2,   11,    2],\n",
       "       [   1, 1373,    5,    5,    1,    4,    1,    4,   13,    2],\n",
       "       [   7,   11, 1092,   22,   12,    8,   17,   14,   37,    6],\n",
       "       [   5,    5,   38, 1183,    0,   32,    7,   14,   20,   13],\n",
       "       [   6,    8,    7,    2, 1099,    3,   10,    4,   11,   34],\n",
       "       [  15,    6,   15,   45,   14,  956,   21,    3,   46,   14],\n",
       "       [  12,    2,   16,    1,    7,   13, 1169,    2,    5,    0],\n",
       "       [   3,    2,   15,   11,   10,    2,    1, 1231,    2,   55],\n",
       "       [   7,   30,   10,   35,    6,   33,   11,    5, 1084,   14],\n",
       "       [   6,    4,    7,   21,   32,    7,    0,   39,   14, 1142]],\n",
       "      dtype=int64)"
      ]
     },
     "execution_count": 105,
     "metadata": {},
     "output_type": "execute_result"
    }
   ],
   "source": [
    "confusion_matrix(y_test,y_pred_bg1)"
   ]
  },
  {
   "cell_type": "code",
   "execution_count": 106,
   "metadata": {},
   "outputs": [
    {
     "name": "stdout",
     "output_type": "stream",
     "text": [
      "0.9155169800402868\n",
      "0.9157142857142857\n"
     ]
    }
   ],
   "source": [
    "print(f1_score(y_test,y_pred_bg1,average='weighted'))#f1 score higher means model is working better\n",
    "print(accuracy_score(y_test,y_pred_bg1))"
   ]
  },
  {
   "cell_type": "code",
   "execution_count": 107,
   "metadata": {},
   "outputs": [],
   "source": [
    "y_pred_lrbg1=bg1.predict(x_test_main)"
   ]
  },
  {
   "cell_type": "code",
   "execution_count": 108,
   "metadata": {},
   "outputs": [],
   "source": [
    "y_pred_lrbg1 = pd.DataFrame(y_pred_lrbg1)"
   ]
  },
  {
   "cell_type": "code",
   "execution_count": 109,
   "metadata": {},
   "outputs": [],
   "source": [
    "y_pred_lrbg1.to_csv('submission_lrbg1.csv',index=False)"
   ]
  },
  {
   "cell_type": "markdown",
   "metadata": {},
   "source": [
    "#### Naive Bayes"
   ]
  },
  {
   "cell_type": "code",
   "execution_count": 110,
   "metadata": {},
   "outputs": [],
   "source": [
    "clf3 = GaussianNB()"
   ]
  },
  {
   "cell_type": "code",
   "execution_count": 111,
   "metadata": {},
   "outputs": [],
   "source": [
    "bg2 = BaggingClassifier(base_estimator=clf3, n_estimators=10, max_samples=0.8, max_features=0.8)"
   ]
  },
  {
   "cell_type": "code",
   "execution_count": 112,
   "metadata": {},
   "outputs": [
    {
     "data": {
      "text/plain": [
       "BaggingClassifier(base_estimator=GaussianNB(priors=None, var_smoothing=1e-09),\n",
       "                  bootstrap=True, bootstrap_features=False, max_features=0.8,\n",
       "                  max_samples=0.8, n_estimators=10, n_jobs=None,\n",
       "                  oob_score=False, random_state=None, verbose=0,\n",
       "                  warm_start=False)"
      ]
     },
     "execution_count": 112,
     "metadata": {},
     "output_type": "execute_result"
    }
   ],
   "source": [
    "bg2.fit(x_train,y_train)"
   ]
  },
  {
   "cell_type": "code",
   "execution_count": 113,
   "metadata": {},
   "outputs": [],
   "source": [
    "y_pred_bg2 = bg2.predict(x_test)"
   ]
  },
  {
   "cell_type": "code",
   "execution_count": 114,
   "metadata": {},
   "outputs": [
    {
     "name": "stdout",
     "output_type": "stream",
     "text": [
      "0.5391368383963318\n",
      "0.5806349206349206\n"
     ]
    }
   ],
   "source": [
    "print(f1_score(y_test,y_pred_bg2,average='weighted'))#f1 score higher means model is working better\n",
    "print(accuracy_score(y_test,y_pred_bg2))"
   ]
  },
  {
   "cell_type": "markdown",
   "metadata": {},
   "source": [
    "## Boosting"
   ]
  },
  {
   "cell_type": "code",
   "execution_count": 115,
   "metadata": {},
   "outputs": [],
   "source": [
    "from sklearn.ensemble import AdaBoostClassifier"
   ]
  },
  {
   "cell_type": "code",
   "execution_count": 116,
   "metadata": {},
   "outputs": [],
   "source": [
    "clf4 = DecisionTreeClassifier(criterion='entropy', max_depth=12)"
   ]
  },
  {
   "cell_type": "code",
   "execution_count": 117,
   "metadata": {},
   "outputs": [],
   "source": [
    "boosting = AdaBoostClassifier(base_estimator=clf4, n_estimators=10)"
   ]
  },
  {
   "cell_type": "code",
   "execution_count": 118,
   "metadata": {},
   "outputs": [
    {
     "data": {
      "text/plain": [
       "AdaBoostClassifier(algorithm='SAMME.R',\n",
       "                   base_estimator=DecisionTreeClassifier(ccp_alpha=0.0,\n",
       "                                                         class_weight=None,\n",
       "                                                         criterion='entropy',\n",
       "                                                         max_depth=12,\n",
       "                                                         max_features=None,\n",
       "                                                         max_leaf_nodes=None,\n",
       "                                                         min_impurity_decrease=0.0,\n",
       "                                                         min_impurity_split=None,\n",
       "                                                         min_samples_leaf=1,\n",
       "                                                         min_samples_split=2,\n",
       "                                                         min_weight_fraction_leaf=0.0,\n",
       "                                                         presort='deprecated',\n",
       "                                                         random_state=None,\n",
       "                                                         splitter='best'),\n",
       "                   learning_rate=1.0, n_estimators=10, random_state=None)"
      ]
     },
     "execution_count": 118,
     "metadata": {},
     "output_type": "execute_result"
    }
   ],
   "source": [
    "boosting.fit(x_train,y_train)"
   ]
  },
  {
   "cell_type": "code",
   "execution_count": 119,
   "metadata": {},
   "outputs": [],
   "source": [
    "y_pred_boosting =boosting.predict(x_test)"
   ]
  },
  {
   "cell_type": "code",
   "execution_count": 120,
   "metadata": {},
   "outputs": [
    {
     "name": "stdout",
     "output_type": "stream",
     "text": [
      "0.9281977512067379\n",
      "0.9281746031746032\n"
     ]
    }
   ],
   "source": [
    "print(f1_score(y_test,y_pred_boosting,average='weighted'))#f1 score higher means model is working better\n",
    "print(accuracy_score(y_test,y_pred_boosting))"
   ]
  },
  {
   "cell_type": "code",
   "execution_count": 121,
   "metadata": {},
   "outputs": [],
   "source": [
    "y_pred_boosting=boosting.predict(x_test_main)"
   ]
  },
  {
   "cell_type": "code",
   "execution_count": 122,
   "metadata": {},
   "outputs": [],
   "source": [
    "y_pred_boosting = pd.DataFrame(y_pred_boosting)"
   ]
  },
  {
   "cell_type": "code",
   "execution_count": 123,
   "metadata": {},
   "outputs": [],
   "source": [
    "y_pred_boosting.to_csv('submission_y_pred_boosting.csv',index=False)"
   ]
  },
  {
   "cell_type": "code",
   "execution_count": null,
   "metadata": {},
   "outputs": [],
   "source": []
  },
  {
   "cell_type": "markdown",
   "metadata": {},
   "source": [
    "##### logis  ==             0.9418707482993197\n",
    "##### dt     ==               0.8541269841269842\n",
    "##### rf      ==               0.99578231292517\n",
    "##### knn    ==             0.9670634920634921\n",
    "##### knn ense      ==  0.9673015873015873\n",
    "##### log ense  ==       0.9157142857142857\n",
    "##### boosting  ==      0.9281746031746032\n",
    "\n"
   ]
  },
  {
   "cell_type": "markdown",
   "metadata": {},
   "source": [
    "### these are the accuracy of the different models in training set."
   ]
  }
 ],
 "metadata": {
  "kernelspec": {
   "display_name": "Python 3",
   "language": "python",
   "name": "python3"
  },
  "language_info": {
   "codemirror_mode": {
    "name": "ipython",
    "version": 3
   },
   "file_extension": ".py",
   "mimetype": "text/x-python",
   "name": "python",
   "nbconvert_exporter": "python",
   "pygments_lexer": "ipython3",
   "version": "3.7.3"
  }
 },
 "nbformat": 4,
 "nbformat_minor": 2
}
